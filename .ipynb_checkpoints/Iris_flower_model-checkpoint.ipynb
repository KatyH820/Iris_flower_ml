{
 "cells": [
  {
   "cell_type": "code",
   "execution_count": 2,
   "id": "8e1cd94d",
   "metadata": {},
   "outputs": [],
   "source": [
    "from sklearn.datasets import load_iris\n",
    "iris=load_iris()"
   ]
  },
  {
   "cell_type": "code",
   "execution_count": 3,
   "id": "0b2d80f9",
   "metadata": {},
   "outputs": [],
   "source": [
    "X=iris.data#input data\n",
    "y=iris.target#output/answer\n",
    "feature_names=iris.feature_names#columns\n",
    "target_names=iris.target_names#output options"
   ]
  },
  {
   "cell_type": "code",
   "execution_count": 4,
   "id": "ecf9f91a",
   "metadata": {},
   "outputs": [
    {
     "name": "stdout",
     "output_type": "stream",
     "text": [
      "(120, 4)\n",
      "(30, 4)\n"
     ]
    }
   ],
   "source": [
    "from sklearn.model_selection import train_test_split\n",
    "#train_test_split split arrays or matrices into random train and test subsets\n",
    "X_train,X_test,y_train,y_test = train_test_split(X,y,test_size=0.2)\n",
    "print(X_train.shape)\n",
    "print(X_test.shape)"
   ]
  },
  {
   "cell_type": "code",
   "execution_count": 10,
   "id": "db05070a",
   "metadata": {},
   "outputs": [],
   "source": [
    "from sklearn.neighbors import KNeighborsClassifier\n",
    "knn=KNeighborsClassifier(n_neighbors=3)#We can use it as a function and parameter is how many classification we want, in this case we know there are 3 types of iris\n",
    "knn.fit(X_train,y_train)#Trying this fit this data and use this algorithm\n",
    "y_pred = knn.predict(X_test)#what model predict with test inputs\n",
    "\n"
   ]
  },
  {
   "cell_type": "code",
   "execution_count": 11,
   "id": "c7fda58a",
   "metadata": {},
   "outputs": [
    {
     "name": "stdout",
     "output_type": "stream",
     "text": [
      "0.9666666666666667\n"
     ]
    }
   ],
   "source": [
    "from sklearn import metrics\n",
    "print(metrics.accuracy_score(y_test,y_pred))#accuracy of our model"
   ]
  },
  {
   "cell_type": "code",
   "execution_count": 12,
   "id": "d8a03fa4",
   "metadata": {},
   "outputs": [
    {
     "name": "stdout",
     "output_type": "stream",
     "text": [
      "predictions:  ['versicolor', 'virginica']\n"
     ]
    }
   ],
   "source": [
    "sample = [[3,5,4,2],[2,3,5,4]]#sample data\n",
    "predictions = knn.predict(sample)\n",
    "pred_species = [iris.target_names[p] for p in predictions]\n",
    "print(\"predictions: \",pred_species)"
   ]
  },
  {
   "cell_type": "code",
   "execution_count": 13,
   "id": "7f5a6036",
   "metadata": {},
   "outputs": [
    {
     "data": {
      "text/plain": [
       "['mlbrain.joblib']"
      ]
     },
     "execution_count": 13,
     "metadata": {},
     "output_type": "execute_result"
    }
   ],
   "source": [
    "#We want to have a stable model so we save our model in a file so that it can be use when needed\n",
    "#We save our model so we dont have to keep training it bc it require a lot of power \n",
    "#Anytime we make a improvement to our model we just dump it again and it will work\n",
    "from joblib import dump,load\n",
    "dump(knn,'mlbrain.joblib')#This save our model in a file called 'mlbrain.joblib', u can find it in the folder"
   ]
  },
  {
   "cell_type": "code",
   "execution_count": 16,
   "id": "1d4587c5",
   "metadata": {},
   "outputs": [
    {
     "name": "stdout",
     "output_type": "stream",
     "text": [
      "predictions:  ['versicolor', 'virginica']\n"
     ]
    }
   ],
   "source": [
    "model=load('mlbrain.joblib')#load model\n",
    "\n",
    "#------using the same sample, it still work----\n",
    "sample = [[3,5,4,2],[2,3,5,4]]#sample data\n",
    "predictions = model.predict(sample)\n",
    "pred_species = [iris.target_names[p] for p in predictions]\n",
    "print(\"predictions: \",pred_species)\n"
   ]
  },
  {
   "cell_type": "code",
   "execution_count": null,
   "id": "7edae257",
   "metadata": {},
   "outputs": [],
   "source": []
  },
  {
   "cell_type": "code",
   "execution_count": null,
   "id": "a856e293",
   "metadata": {},
   "outputs": [],
   "source": []
  }
 ],
 "metadata": {
  "kernelspec": {
   "display_name": "Python 3 (ipykernel)",
   "language": "python",
   "name": "python3"
  },
  "language_info": {
   "codemirror_mode": {
    "name": "ipython",
    "version": 3
   },
   "file_extension": ".py",
   "mimetype": "text/x-python",
   "name": "python",
   "nbconvert_exporter": "python",
   "pygments_lexer": "ipython3",
   "version": "3.9.7"
  }
 },
 "nbformat": 4,
 "nbformat_minor": 5
}
